{
 "cells": [
  {
   "cell_type": "code",
   "execution_count": 1,
   "metadata": {},
   "outputs": [],
   "source": [
    "import torch\n",
    "from models.utils.continual_model import save_input_size\n",
    "from backbone.ResNet18 import resnet18\n"
   ]
  },
  {
   "cell_type": "code",
   "execution_count": 2,
   "metadata": {},
   "outputs": [],
   "source": [
    "def BN_flops(B, C, H, W):\n",
    "    \"\"\"\n",
    "    S=B x C x H x W\n",
    "\n",
    "    Flops of each operation:\n",
    "    - mean:       S+C\n",
    "    - var:        3S+C\n",
    "    - normalize:  2S+2C\n",
    "    - affine:     2S\n",
    "    - EMA:        6C\n",
    "    \"\"\"\n",
    "    S = B * C * H * W\n",
    "    return 8 * S + 10 * C\n",
    "\n",
    "\n",
    "def AdaB2N_flops(B, C, H, W):\n",
    "    \"\"\"\n",
    "    S=B x C x H x W\n",
    "\n",
    "    Flops of each operation:\n",
    "    - mean:       S+BC\n",
    "    - var:        3S+BC\n",
    "    - normalize:  2S+2C\n",
    "    - affine:     2S\n",
    "    - EMA:        6C\n",
    "    - Loss:       6C\n",
    "    \"\"\"\n",
    "    S = B * C * H * W\n",
    "    return 8 * S + 2 * B * C + 14 * C\n",
    "\n",
    "\n",
    "def GN_flops(B, C, H, W, G=32, affline=True):\n",
    "    \"\"\"\n",
    "    S=B x C x H x W\n",
    "\n",
    "    Flops of each operation:\n",
    "    - mean:       S+BG\n",
    "    - var:        3S+BG\n",
    "    - normalize:  2S+2BG\n",
    "    - affine:     2S\n",
    "    \"\"\"\n",
    "    S = B * C * H * W\n",
    "    if affline:\n",
    "        return 8 * S + 4 * B * G\n",
    "    return 6 * S + 4 * B * G\n",
    "\n",
    "\n",
    "\n",
    "def CN_flops(B, C, H, W, G=32):\n",
    "    return BN_flops(B, C, H, W) + GN_flops(B, C, H, W, G, False)"
   ]
  },
  {
   "cell_type": "code",
   "execution_count": 3,
   "metadata": {},
   "outputs": [
    {
     "name": "stdout",
     "output_type": "stream",
     "text": [
      "FLOPs of BN: 49200000\n",
      "FLOPs of GN: 49177600\n",
      "FLOPs of CN: 86089600\n",
      "FLOPs of AdaB2N: 49315200\n"
     ]
    }
   ],
   "source": [
    "input_size = (10, 3, 32, 32)\n",
    "model = resnet18(100)\n",
    "model.apply(save_input_size)\n",
    "\n",
    "with torch.no_grad():\n",
    "    model(torch.randn(*input_size))\n",
    "\n",
    "norm_modules = [m for m in model.modules() if isinstance(m, torch.nn.BatchNorm2d)]\n",
    "\n",
    "for method in [\"BN\", \"GN\", \"CN\", \"AdaB2N\"]:\n",
    "    flops = 0\n",
    "    for mod in norm_modules:\n",
    "        shape = mod._input_size\n",
    "        flops += eval(method + \"_flops\")(*shape)\n",
    "    print(f\"FLOPs of {method}: {flops}\")"
   ]
  },
  {
   "cell_type": "code",
   "execution_count": null,
   "metadata": {},
   "outputs": [],
   "source": []
  }
 ],
 "metadata": {
  "kernelspec": {
   "display_name": "pt20",
   "language": "python",
   "name": "python3"
  },
  "language_info": {
   "codemirror_mode": {
    "name": "ipython",
    "version": 3
   },
   "file_extension": ".py",
   "mimetype": "text/x-python",
   "name": "python",
   "nbconvert_exporter": "python",
   "pygments_lexer": "ipython3",
   "version": "3.10.9"
  },
  "orig_nbformat": 4
 },
 "nbformat": 4,
 "nbformat_minor": 2
}
